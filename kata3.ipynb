{
 "cells": [
  {
   "cell_type": "markdown",
   "metadata": {},
   "source": [
    "## Advertencia de asteoriode ☄️🌎"
   ]
  },
  {
   "cell_type": "code",
   "execution_count": 7,
   "metadata": {},
   "outputs": [
    {
     "name": "stdout",
     "output_type": "stream",
     "text": [
      "ADVERTENCIA! Un asteroide se acerca a 49 km/s\n"
     ]
    }
   ],
   "source": [
    "asteroide_vel = 49\n",
    "if asteroide_vel > 25:\n",
    "    print(\"ADVERTENCIA! Un asteroide se acerca a \" + str(asteroide_vel) + \" km/s\")\n",
    "else:\n",
    "    print(\"No hay peligro, ningún asteroide se acerca a la Tierra.\")"
   ]
  },
  {
   "cell_type": "markdown",
   "metadata": {},
   "source": [
    "## Alerta de rayo de luz ☄️⚡️"
   ]
  },
  {
   "cell_type": "code",
   "execution_count": 15,
   "metadata": {},
   "outputs": [
    {
     "name": "stdout",
     "output_type": "stream",
     "text": [
      "Debido a la velocidad del asteroide, no podrá observarse nigún rayo de luz.\n"
     ]
    }
   ],
   "source": [
    "asteroide_vel = 19\n",
    "if asteroide_vel > 20:\n",
    "    print(\"ATENCIÓN! Busquen un asteoride en el cielo, podrán ver un rayo de luz desde la Tierra.\")\n",
    "elif asteroide_vel == 20:\n",
    "    print(\"ATENCIÓN! Busquen un asteoride en el cielo, podrán ver un rayo de luz desde la Tierra.\")\n",
    "else:\n",
    "    print(\"Debido a la velocidad del asteroide, no podrá observarse nigún rayo de luz.\")"
   ]
  },
  {
   "cell_type": "markdown",
   "metadata": {},
   "source": [
    "## Alerta completa ☄️"
   ]
  },
  {
   "cell_type": "code",
   "execution_count": 27,
   "metadata": {},
   "outputs": [
    {
     "name": "stdout",
     "output_type": "stream",
     "text": [
      "Debido a las características del asteroide, no hay necesidad de seguir ninguna recomendación\n"
     ]
    }
   ],
   "source": [
    "asteroide_vel = 18\n",
    "asteroide_tam = 700\n",
    "if asteroide_vel >= 20 and asteroide_vel < 25:\n",
    "    print(\"ATENCIÓN! Busquen un asteoride en el cielo, podrán ver un rayo de luz desde la Tierra.\")\n",
    "elif asteroide_vel >= 20 and asteroide_vel > 25:\n",
    "    if asteroide_tam > 25 and asteroide_tam < 10000:\n",
    "        print(\"ADVERTENCIA! Un asteroide se acerca a \" + str(asteroide_vel) + \" km/s \" + \"y debido a su tamaño casará mucho daño.\")\n",
    "    else:\n",
    "        print(\"ADVERTENCIA! Un asteroide se acerca a \" + str(asteroide_vel) + \" km/s \" + \"pero debido a su tamaño, no se esperan daños graves.\")\n",
    "else:\n",
    "    print(\"Debido a las características del asteroide, no hay necesidad de seguir ninguna recomendación\")\n"
   ]
  },
  {
   "cell_type": "code",
   "execution_count": 32,
   "metadata": {},
   "outputs": [
    {
     "name": "stdout",
     "output_type": "stream",
     "text": [
      "Look up! ¡Hay una luz mágica en el cielo!\n"
     ]
    }
   ],
   "source": [
    "velocidad_asteroide = 27\n",
    "tamano_asteroide = 10\n",
    "if velocidad_asteroide > 25 and tamano_asteroide > 25:\n",
    "    print('¡Alerta, Un asteroide muy peligroso viene hacia la Tierra!')\n",
    "elif velocidad_asteroide >= 20:\n",
    "    print('Look up! ¡Hay una luz mágica en el cielo!')\n",
    "elif tamano_asteroide < 25:\n",
    "    print('Nada que ver aquí :)')\n",
    "else:\n",
    "    print('Nada que ver aquí :)')"
   ]
  }
 ],
 "metadata": {
  "interpreter": {
   "hash": "aee8b7b246df8f9039afb4144a1f6fd8d2ca17a180786b69acc140d282b71a49"
  },
  "kernelspec": {
   "display_name": "Python 3.10.2 64-bit",
   "language": "python",
   "name": "python3"
  },
  "language_info": {
   "codemirror_mode": {
    "name": "ipython",
    "version": 3
   },
   "file_extension": ".py",
   "mimetype": "text/x-python",
   "name": "python",
   "nbconvert_exporter": "python",
   "pygments_lexer": "ipython3",
   "version": "3.10.2"
  },
  "orig_nbformat": 4
 },
 "nbformat": 4,
 "nbformat_minor": 2
}
