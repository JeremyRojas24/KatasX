{
 "cells": [
  {
   "cell_type": "markdown",
   "metadata": {},
   "source": [
    "## Informe de combustible ⛽️"
   ]
  },
  {
   "cell_type": "code",
   "execution_count": 8,
   "metadata": {},
   "outputs": [],
   "source": [
    "def generar_informe(tanque_interno, tanque_externo, tanque_hidrogeno):\n",
    "    promedio_total = (tanque_interno + tanque_externo + tanque_hidrogeno) / 3\n",
    "    return f\"\"\"Informe de combustible:\n",
    "    Promedio total: {promedio_total}%\n",
    "    Tanque interno: {tanque_interno}%\n",
    "    Tanque externo: {tanque_externo}%\n",
    "    Tanque de hidrógeno: {tanque_hidrogeno}% \n",
    "    \"\"\""
   ]
  },
  {
   "cell_type": "code",
   "execution_count": 9,
   "metadata": {},
   "outputs": [
    {
     "name": "stdout",
     "output_type": "stream",
     "text": [
      "Informe de combustible:\n",
      "    Promedio total: 78.33333333333333%\n",
      "    Tanque interno: 80%\n",
      "    Tanque externo: 70%\n",
      "    Tanque de hidrógeno: 85% \n",
      "    \n"
     ]
    }
   ],
   "source": [
    "print(generar_informe(80, 70, 85))"
   ]
  },
  {
   "cell_type": "code",
   "execution_count": 10,
   "metadata": {},
   "outputs": [
    {
     "data": {
      "text/plain": [
       "82.0"
      ]
     },
     "execution_count": 10,
     "metadata": {},
     "output_type": "execute_result"
    }
   ],
   "source": [
    "def promedio(valores):\n",
    "    total = sum(valores)\n",
    "    no_items = len(valores)\n",
    "    return total / no_items\n",
    "\n",
    "promedio([80, 85, 81]) "
   ]
  },
  {
   "cell_type": "code",
   "execution_count": 11,
   "metadata": {},
   "outputs": [
    {
     "name": "stdout",
     "output_type": "stream",
     "text": [
      "Informe de combustible:\n",
      "    Promedio total: 78.0%\n",
      "    Tanque interno: 88%\n",
      "    Tanque externo: 76%\n",
      "    Tanque de hidrógeno: 70% \n",
      "    \n"
     ]
    }
   ],
   "source": [
    "def generar_informe(tanque_interno, tanque_externo, tanque_hidrogeno):\n",
    "    return f\"\"\"Informe de combustible:\n",
    "    Promedio total: {promedio([tanque_interno, tanque_externo, tanque_hidrogeno])}%\n",
    "    Tanque interno: {tanque_interno}%\n",
    "    Tanque externo: {tanque_externo}%\n",
    "    Tanque de hidrógeno: {tanque_hidrogeno}% \n",
    "    \"\"\"\n",
    "\n",
    "print(generar_informe(88, 76, 70))"
   ]
  },
  {
   "cell_type": "markdown",
   "metadata": {},
   "source": [
    "## Informe de misón 🚀"
   ]
  },
  {
   "cell_type": "code",
   "execution_count": 14,
   "metadata": {},
   "outputs": [
    {
     "name": "stdout",
     "output_type": "stream",
     "text": [
      "\n",
      "    Misión a Luna\n",
      "    Tiempo de viaje total: 65 minutos\n",
      "    Combustible: 500000 galones\n",
      "    \n"
     ]
    }
   ],
   "source": [
    "# Función con un informe preciso de la misión. Considera hora de prelanzamiento, tiempo de vuelo, destino, tanque externo y tanque interno\n",
    "def informe_mision(hora_prelanzamiento, hora_vuelo, destino, tanque_externo, tanque_interno):\n",
    "    return f\"\"\"\n",
    "    Misión a {destino}\n",
    "    Tiempo de viaje total: {hora_prelanzamiento + hora_vuelo} minutos\n",
    "    Combustible: {tanque_externo + tanque_interno} galones\n",
    "    \"\"\"\n",
    "\n",
    "print(informe_mision(14, 51, \"Luna\", 200000, 300000))"
   ]
  },
  {
   "cell_type": "code",
   "execution_count": 16,
   "metadata": {},
   "outputs": [
    {
     "name": "stdout",
     "output_type": "stream",
     "text": [
      "\n",
      "    Misión a Luna\n",
      "    Tiempo de viaje total: 76 minutos\n",
      "    Combustible: 500000\n",
      "    \n"
     ]
    }
   ],
   "source": [
    "def informe_mision(destino, *minutos, **tanques):\n",
    "    return f\"\"\"\n",
    "    Misión a {destino}\n",
    "    Tiempo de viaje total: {sum(minutos)} minutos\n",
    "    Combustible: {sum(tanques.values())}\n",
    "    \"\"\"\n",
    "\n",
    "print(informe_mision(\"Luna\", 10, 15, 51, interno=300000, externo=200000))"
   ]
  },
  {
   "cell_type": "code",
   "execution_count": 22,
   "metadata": {},
   "outputs": [
    {
     "name": "stdout",
     "output_type": "stream",
     "text": [
      "\n",
      "    Misión a Luna\n",
      "    Tiempo de viaje total: 74 minutos\n",
      "    Combustible total: 500000\n",
      "    tanque interno --> 300000 galones\n",
      "tanque externo --> 200000 galones\n",
      "\n"
     ]
    }
   ],
   "source": [
    "def informe_mision(destino, *minutos, **tanques):\n",
    "    informe_principal = f\"\"\"\n",
    "    Misión a {destino}\n",
    "    Tiempo de viaje total: {sum(minutos)} minutos\n",
    "    Combustible total: {sum(tanques.values())}\n",
    "    \"\"\"\n",
    "    for nombre_tanque, galones in tanques.items():\n",
    "        informe_principal += f\"tanque {nombre_tanque} --> {galones} galones\\n\"\n",
    "    return informe_principal\n",
    "\n",
    "print(informe_mision(\"Luna\", 8, 11, 55, interno=300000, externo=200000))"
   ]
  }
 ],
 "metadata": {
  "interpreter": {
   "hash": "aee8b7b246df8f9039afb4144a1f6fd8d2ca17a180786b69acc140d282b71a49"
  },
  "kernelspec": {
   "display_name": "Python 3.10.2 64-bit",
   "language": "python",
   "name": "python3"
  },
  "language_info": {
   "codemirror_mode": {
    "name": "ipython",
    "version": 3
   },
   "file_extension": ".py",
   "mimetype": "text/x-python",
   "name": "python",
   "nbconvert_exporter": "python",
   "pygments_lexer": "ipython3",
   "version": "3.10.2"
  },
  "orig_nbformat": 4
 },
 "nbformat": 4,
 "nbformat_minor": 2
}
